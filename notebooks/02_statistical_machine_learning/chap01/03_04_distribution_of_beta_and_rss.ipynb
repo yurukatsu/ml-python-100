{
 "cells": [
  {
   "cell_type": "markdown",
   "id": "da4d4207",
   "metadata": {},
   "source": [
    "# $\\hat{\\beta}$ の分布"
   ]
  },
  {
   "cell_type": "markdown",
   "id": "67ad5e81",
   "metadata": {},
   "source": [
    "重回帰モデル：\n",
    "\n",
    "$$\n",
    "y = X \\beta + \\epsilon, \\quad y \\in \\mathbb{R}^N, \\quad X \\in \\mathbb{R}^{N \\times (p + 1)}, \\quad \\beta \\in \\mathbb{R}^{p + 1}, \\quad \\epsilon \\in N \\left( 0, \\sigma^2 I_{N} \\right)\n",
    "$$\n",
    "\n",
    "を考えます．\n",
    "ただし，$\\mathrm{rank} \\left( X \\right) = p + 1$ とします．\n",
    "パラメタ $\\beta$ を最小二乗法により推定すると，[前小節](./02_multiple_regression.ipynb) から\n",
    "\n",
    "$$\n",
    "\\hat{\\beta} = \\left( X^{\\top} X \\right)^{-1} X^{\\top} y = \\beta + \\left( X^{\\top} X \\right)^{-1} X^{\\top} \\epsilon\n",
    "$$\n",
    "\n",
    "となります．このことより $\\hat{\\beta}$ は $\\beta$ の不偏推定量であることがいえます：\n",
    "\n",
    "$$\n",
    "E \\left[ \\hat{\\beta} \\right] = \\beta.\n",
    "$$\n",
    "\n",
    "また，$\\hat{\\beta}$ の分散共分散行列は\n",
    "\n",
    "$$\n",
    "E \\left[ \\left( \\hat{\\beta} - \\beta \\right) \\left( \\hat{\\beta} - \\beta \\right)^{\\top} \\right] = \\left( X^{\\top} X \\right)^{-1} X^{\\top} E \\left[ \\epsilon \\epsilon^{\\top} \\right] X \\left( X^{\\top} X \\right)^{-1} = \\sigma^2 \\left( X^{\\top} X \\right)^{-1}\n",
    "$$\n",
    "\n",
    "と計算できるので，$\\hat{\\beta}$ は 平均 $\\beta$，分散共分散 $\\sigma^2 \\left( X^{\\top} X \\right)^{-1}$ に従うことがわかります：\n",
    "$$\n",
    "\\hat{\\beta} \\sim N \\left( \\beta, \\sigma^2 \\left( X^{\\top} X \\right)^{-1} \\right)\n",
    "$$"
   ]
  },
  {
   "cell_type": "markdown",
   "id": "087794fc",
   "metadata": {},
   "source": [
    "# RSS の分布"
   ]
  },
  {
   "cell_type": "markdown",
   "id": "099e2385",
   "metadata": {},
   "source": [
    "本節では，$\\hat{y} = X \\hat{\\beta}$ と $y$ との二乗誤差の分布について考えていきます．\n",
    "[前小節](./02_multiple_regression.ipynb) で求めた $\\hat{\\beta}$ より，\n",
    "\n",
    "$$\n",
    "\\hat{y} = X \\hat{\\beta} = X \\left( X^{\\top} X \\right)^{-1}  X^{\\top} y = H y\n",
    "$$\n",
    "\n",
    "とかけます．ここで，\n",
    "\n",
    "$$\n",
    "H = X \\hat{\\beta} = X \\left( X^{\\top} X \\right)^{-1}  X^{\\top}\n",
    "$$\n",
    "\n",
    "はハット行列と呼ばれます．\n",
    "\n",
    "ハット行列の性質\n",
    "\n",
    "$$\n",
    "H^2 = H\n",
    "$$\n",
    "\n",
    "より，$H$ の固有値は 0 または 1であることがわかります．\n",
    "実際に，$H$ の固有値 $\\lambda$ に対する 固有ベクトルを $x$ とすると，\n",
    "\n",
    "$$\n",
    "\\lambda^2 x = H (H x) = H x = \\lambda x \\rightarrow \\lambda (\\lambda - 1) = 0\n",
    "$$\n",
    "\n",
    "より，$H$ の固有値が 0 または 1 になることが分かります．\n",
    "\n",
    "$$\n",
    "\\mathrm{rank} \\left( H \\right) \\le \\min \\left\\{ \\mathrm{rank} \\left( X \\left( X^{\\top} X \\right)^{-1} \\right), \\mathrm{rank} \\left( X \\right) \\right\\} \\le \\mathrm{rank} \\left( X \\right)\n",
    "$$\n",
    "$$\n",
    "\\mathrm{rank} \\left( X \\right) = \\mathrm{rank} \\left( H X \\right) = \\min \\left\\{ \\mathrm{rank} (H), \\mathrm{rank} (X) \\right\\} \\le \\mathrm{rank} (H)\n",
    "$$\n",
    "より，$\\mathrm{rank} (H) = \\mathrm{rank} (X) = p + 1$ となり，ハット行列 $H$ の固有値 $0$ の固有空間の次元は $p + 1$ であり，固有値 $1$ の固有空間の次元は $N - p - 1$ であることがわかります．\n",
    "\n",
    "$I - H$ に関しても同様に固有値が 0 または 1 であり，$I - H$ の固有値 $0$ の固有空間の次元は $N - p - 1$，固有値 $1$ の固有空間の次元は $p + 1$ であることが分かります．\n"
   ]
  },
  {
   "cell_type": "markdown",
   "id": "d53729ac",
   "metadata": {},
   "source": [
    "さて，$\\left\\Vert y - \\hat{y} \\right\\Vert_2^2$ を計算していきましょう．\n",
    "\n",
    "$$\n",
    "y - \\hat{y} = \\left(I - H \\right) y = \\left(I - H \\right) \\left( \\beta X + \\epsilon \\right) = \\beta \\left(X - HX \\right) + \\left(I - H \\right) \\epsilon = \\left(I - H \\right) \\epsilon\n",
    "$$\n",
    "\n",
    "より\n",
    "\n",
    "$$\n",
    "RSS = \\left\\Vert y - \\hat{y} \\right\\Vert_2^2 = \\left\\Vert \\left(I - H \\right) y \\right\\Vert_2^2 = \\epsilon^{T}  \\left(I - H \\right) \\epsilon\n",
    "$$\n",
    "\n",
    "となります．\n",
    "\n",
    "また，$I - H$ は実対称行列より，ある直交行列 $P$ を用いて，$P (I - H) P^T = \\mathrm{diag} \\left( \\underbrace{1, \\ldots, 1}_{N- p - 1}, \\underbrace{0, \\ldots, 0}_{p + 1} \\right)$ であるので，$\\epsilon = P^{\\top} v$ とおくと，\n",
    "\n",
    "$$\n",
    "RSS =  \\epsilon^{T}  \\left(I - H \\right) \\epsilon = v^T P  \\left(I - H \\right) P^T v = \\sum_{i = 1}^{N - p - 1} v_{i}^2\n",
    "$$\n",
    "\n",
    "と計算できます．\n",
    "\n",
    "$v$　の $N- p-1$ までの成分 $v_{1:N-p-1}$ は\n",
    "$$\n",
    "E [v_{1:N-p-1}] =  P^{\\top}_{1:N-p-1, 1:N-p-1} E \\left[ \\epsilon_{1:N-p-1} \\right] = 0_{N-p-1}\n",
    "$$，\n",
    "$$\n",
    "E \\left[ v_{1:N-p-1} v_{1:N-p-1}^T \\right] = P_{1:N-p-1, 1:N-p-1} E \\left[ \\epsilon_{1:N-p-1} \\epsilon_{1:N-p-1}^T \\right] P^{\\top}_{1:N-p-1, 1:N-p-1} = \\sigma^2 I_{1: N - p -1, 1: N - p - 1}\n",
    "$$\n",
    "を満たします．\n",
    "したがって， $v_{1:N-p-1}$ の各成分は分散 $\\sigma^2$ の正規分布に従うため，$RSS / \\sigma^2$ は自由度 $N - p -1$ のカイ二乗分布に従うことが分かります．\n",
    "\n",
    "$$\n",
    "\\frac{RSS}{\\sigma^2} \\sim \\chi^2_{N - p -1}\n",
    "$$"
   ]
  }
 ],
 "metadata": {
  "kernelspec": {
   "display_name": ".venv",
   "language": "python",
   "name": "python3"
  },
  "language_info": {
   "name": "python",
   "version": "3.12.7"
  }
 },
 "nbformat": 4,
 "nbformat_minor": 5
}
